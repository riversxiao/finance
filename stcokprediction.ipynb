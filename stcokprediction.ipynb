{
 "cells": [
  {
   "cell_type": "code",
   "execution_count": 220,
   "metadata": {
    "collapsed": true
   },
   "outputs": [],
   "source": [
    "import sys\n",
    "import pickle\n",
    "sys.path.append(\"../tools/\")\n",
    "import pandas as pd\n",
    "import numpy as np\n",
    "from sklearn.pipeline import make_pipeline\n",
    "from sklearn.preprocessing import StandardScaler, PolynomialFeatures\n",
    "from sklearn.naive_bayes import GaussianNB\n",
    "from sklearn.tree import DecisionTreeClassifier\n",
    "from sklearn.neighbors import KNeighborsClassifier\n",
    "from sklearn.metrics import accuracy_score\n",
    "from sklearn.cross_validation import train_test_split\n",
    "from sklearn import metrics\n",
    "from sklearn.model_selection import StratifiedShuffleSplit\n",
    "from sklearn.model_selection import GridSearchCV\n",
    "from sklearn.cross_validation import cross_val_score\n",
    "from sklearn.model_selection import train_test_split\n",
    "import numpy as np\n",
    "from keras.models import Sequential\n",
    "from keras.layers.core import Dense,Activation\n"
   ]
  },
  {
   "cell_type": "code",
   "execution_count": 221,
   "metadata": {
    "collapsed": true
   },
   "outputs": [],
   "source": [
    "features_list =[]\n",
    "data = pd.read_csv('../stock_train_data_20170910.csv')\n",
    "target = data[['label']]\n",
    "features = data.drop(['label','weight','era','id','group'],1)\n",
    "features_train,features_test, labels_train, labels_test = train_test_split(features, target, test_size=0.33, random_state=42)\n"
   ]
  },
  {
   "cell_type": "markdown",
   "metadata": {},
   "source": [
    "## Summarize the data "
   ]
  },
  {
   "cell_type": "code",
   "execution_count": 222,
   "metadata": {
    "collapsed": true
   },
   "outputs": [],
   "source": [
    "features_train = np.array(features_train)\n",
    "features_test = np.array(features_test)\n",
    "labels_train = np.array(labels_train)\n",
    "labels_test = np.array(labels_test)"
   ]
  },
  {
   "cell_type": "code",
   "execution_count": 223,
   "metadata": {},
   "outputs": [
    {
     "name": "stdout",
     "output_type": "stream",
     "text": [
      "_________________________________________________________________\n",
      "Layer (type)                 Output Shape              Param #   \n",
      "=================================================================\n",
      "dense_64 (Dense)             (None, 64)                5696      \n",
      "_________________________________________________________________\n",
      "activation_64 (Activation)   (None, 64)                0         \n",
      "_________________________________________________________________\n",
      "dropout_22 (Dropout)         (None, 64)                0         \n",
      "_________________________________________________________________\n",
      "dense_65 (Dense)             (None, 64)                4160      \n",
      "_________________________________________________________________\n",
      "activation_65 (Activation)   (None, 64)                0         \n",
      "_________________________________________________________________\n",
      "dropout_23 (Dropout)         (None, 64)                0         \n",
      "_________________________________________________________________\n",
      "dense_66 (Dense)             (None, 32)                2080      \n",
      "_________________________________________________________________\n",
      "activation_66 (Activation)   (None, 32)                0         \n",
      "_________________________________________________________________\n",
      "dropout_24 (Dropout)         (None, 32)                0         \n",
      "_________________________________________________________________\n",
      "dense_67 (Dense)             (None, 1)                 33        \n",
      "_________________________________________________________________\n",
      "activation_67 (Activation)   (None, 1)                 0         \n",
      "=================================================================\n",
      "Total params: 11,969\n",
      "Trainable params: 11,969\n",
      "Non-trainable params: 0\n",
      "_________________________________________________________________\n",
      "105600/106153 [============================>.] - ETA: 0s\n",
      "Accuracy:  0.656891467976\n",
      "\n",
      "Predictions:\n",
      "104768/106153 [============================>.] - ETA: 0s[[ 0.7094906 ]\n",
      " [ 0.28671771]\n",
      " [ 0.3290503 ]\n",
      " ..., \n",
      " [ 0.53538293]\n",
      " [ 0.40638995]\n",
      " [ 0.39296287]]\n"
     ]
    }
   ],
   "source": [
    "\n",
    "import numpy as np\n",
    "\n",
    "from keras.utils import np_utils\n",
    "from keras.layers.core import Dropout\n",
    "import tensorflow as tf\n",
    "\n",
    "np.random.seed(42)\n",
    "\n",
    "\n",
    "X = np.array([[0,0],[0,1],[1,0],[1,1]]).astype('float32')\n",
    "\n",
    "y = np.array([[0],[1],[1],[0]]).astype('float32')\n",
    "\n",
    "\n",
    "from keras.models import Sequential\n",
    "\n",
    "from keras.layers.core import Dense, Activation\n",
    "\n",
    "\n",
    "# Building the model\n",
    "\n",
    "xor = Sequential()\n",
    "\n",
    "# Add required layers\n",
    "\n",
    "# xor.add()\n",
    "\n",
    "xor.add(Dense(64, input_dim=features_train.shape[1]))\n",
    "xor.add(Activation('tanh'))\n",
    "xor.add(Dropout(0.2))\n",
    "xor.add(Dense(64))\n",
    "xor.add(Activation('tanh'))\n",
    "xor.add(Dropout(0.2))\n",
    "xor.add(Dense(32))\n",
    "xor.add(Activation('tanh'))\n",
    "xor.add(Dropout(0.2))\n",
    "xor.add(Dense(1))\n",
    "\n",
    "xor.add(Activation('sigmoid'))\n",
    "\n",
    "# Specify loss as \"binary_crossentropy\", optimizer as \"adam\",\n",
    "\n",
    "# and add the accuracy metric\n",
    "\n",
    "xor.compile(loss=\"binary_crossentropy\", optimizer=\"adam\", metrics = [\"accuracy\"])\n",
    "\n",
    "# Uncomment this line to print the model architecture\n",
    "\n",
    "xor.summary()\n",
    "\n",
    "\n",
    "# Fitting the model\n",
    "\n",
    "history = xor.fit(features_train, labels_train, epochs=70, batch_size=100,verbose=0)\n",
    "\n",
    "# Scoring the model\n",
    "\n",
    "score = xor.evaluate(features_test, labels_test)\n",
    "\n",
    "print(\"\\nAccuracy: \", score[-1])\n",
    "\n",
    "# Checking the predictions\n",
    "\n",
    "print(\"\\nPredictions:\")\n",
    "\n",
    "print(xor.predict_proba(features_test))"
   ]
  },
  {
   "cell_type": "code",
   "execution_count": 224,
   "metadata": {},
   "outputs": [
    {
     "name": "stdout",
     "output_type": "stream",
     "text": [
      "201184/202757 [============================>.] - ETA: 0s[[ 0.56721568]\n",
      " [ 0.16566475]\n",
      " [ 0.50289661]\n",
      " ..., \n",
      " [ 0.54385829]\n",
      " [ 0.4898186 ]\n",
      " [ 0.52787447]]\n",
      "202624/202757 [============================>.] - ETA: 0s"
     ]
    }
   ],
   "source": [
    "data = pd.read_csv('../stock_test_data_20170910.csv')\n",
    "feature = data.drop(['id','group'],1)\n",
    "feature = np.array(feature)\n",
    "print(xor.predict_proba(feature))\n",
    "files = xor.predict_proba(feature)\n",
    "files = pd.DataFrame(files)"
   ]
  },
  {
   "cell_type": "code",
   "execution_count": 225,
   "metadata": {
    "collapsed": true
   },
   "outputs": [],
   "source": [
    "files.columns = ['proba']"
   ]
  },
  {
   "cell_type": "code",
   "execution_count": 226,
   "metadata": {
    "collapsed": true
   },
   "outputs": [],
   "source": [
    "result = pd.concat([data['id'], files['proba']], axis=1,ignore_index=True)"
   ]
  },
  {
   "cell_type": "code",
   "execution_count": 227,
   "metadata": {},
   "outputs": [],
   "source": [
    "\n",
    "cols = ['id','proba']\n",
    "result.columns = cols"
   ]
  },
  {
   "cell_type": "code",
   "execution_count": 228,
   "metadata": {},
   "outputs": [],
   "source": [
    "result.to_csv('result3.csv')"
   ]
  },
  {
   "cell_type": "code",
   "execution_count": null,
   "metadata": {
    "collapsed": true
   },
   "outputs": [],
   "source": []
  },
  {
   "cell_type": "code",
   "execution_count": null,
   "metadata": {
    "collapsed": true
   },
   "outputs": [],
   "source": []
  },
  {
   "cell_type": "code",
   "execution_count": null,
   "metadata": {
    "collapsed": true
   },
   "outputs": [],
   "source": []
  },
  {
   "cell_type": "code",
   "execution_count": null,
   "metadata": {
    "collapsed": true
   },
   "outputs": [],
   "source": []
  },
  {
   "cell_type": "code",
   "execution_count": null,
   "metadata": {
    "collapsed": true
   },
   "outputs": [],
   "source": []
  },
  {
   "cell_type": "code",
   "execution_count": null,
   "metadata": {
    "collapsed": true
   },
   "outputs": [],
   "source": []
  },
  {
   "cell_type": "code",
   "execution_count": null,
   "metadata": {
    "collapsed": true
   },
   "outputs": [],
   "source": []
  }
 ],
 "metadata": {
  "kernelspec": {
   "display_name": "Python 3",
   "language": "python",
   "name": "python3"
  },
  "language_info": {
   "codemirror_mode": {
    "name": "ipython",
    "version": 3
   },
   "file_extension": ".py",
   "mimetype": "text/x-python",
   "name": "python",
   "nbconvert_exporter": "python",
   "pygments_lexer": "ipython3",
   "version": "3.6.1"
  }
 },
 "nbformat": 4,
 "nbformat_minor": 1
}
