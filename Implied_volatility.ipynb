{
 "cells": [
  {
   "cell_type": "markdown",
   "metadata": {},
   "source": [
    "## Some new terms with this tutorial \n",
    "\n",
    "[vix](http://www.macroption.com/vix/)\n",
    "\n",
    "VIX (CBOE Volatility Index)\n",
    "\n",
    "CBOE | Chicago Board Options Exchange\n",
    "\n",
    "VSTOXX (Euro Stoxx 50 Volatility Index)"
   ]
  },
  {
   "cell_type": "markdown",
   "metadata": {},
   "source": [
    "In this tutorial, we are going to discuss volatility options on the VSTOXX volatility index\n",
    "\n",
    "\n",
    "Before proceeding with the VSTOXX options, let's reconstruct the BSM formula\n",
    "\n"
   ]
  },
  {
   "cell_type": "code",
   "execution_count": 4,
   "metadata": {
    "collapsed": false
   },
   "outputs": [],
   "source": [
    "#\n",
    "# Valuation of European call options in Black-Scholes-Merton model\n",
    "# incl. Vega function and implied volatility estimation\n",
    "# bsm_functions.py\n",
    "#\n",
    "\n",
    "# Analytical Black-Scholes-Merton (BSM) Formula\n",
    "\n",
    "\n",
    "def bsm_call_value(S0, K, T, r, sigma):\n",
    "    ''' Valuation of European call option in BSM model.\n",
    "    Analytical formula.\n",
    "\n",
    "    Parameters\n",
    "    ==========\n",
    "    S0 : float\n",
    "        initial stock/index level\n",
    "    K : float\n",
    "        strike price\n",
    "    T : float\n",
    "        maturity date (in year fractions)\n",
    "    r : float\n",
    "        constant risk-free short rate\n",
    "    sigma : float\n",
    "        volatility factor in diffusion term\n",
    "\n",
    "    Returns\n",
    "    =======\n",
    "    value : float\n",
    "        present value of the European call option\n",
    "    '''\n",
    "    from math import log, sqrt, exp\n",
    "    from scipy import stats\n",
    "\n",
    "    S0 = float(S0)\n",
    "    d1 = (log(S0 / K) + (r + 0.5 * sigma ** 2) * T) / (sigma * sqrt(T))\n",
    "    d2 = (log(S0 / K) + (r - 0.5 * sigma ** 2) * T) / (sigma * sqrt(T))\n",
    "    value = (S0 * stats.norm.cdf(d1, 0.0, 1.0)\n",
    "            - K * exp(-r * T) * stats.norm.cdf(d2, 0.0, 1.0))\n",
    "\n",
    "# stats.norm.cdf --> cumulative distribution function\n",
    "#                    for normal distribution\n",
    "    return value\n",
    "\n",
    "\n",
    "\n",
    "\n"
   ]
  },
  {
   "cell_type": "code",
   "execution_count": 9,
   "metadata": {
    "collapsed": false
   },
   "outputs": [],
   "source": [
    "# Vega function\n",
    "def bsm_vega(S0, K, T, r, sigma):\n",
    "    ''' Vega of European option in BSM model.\n",
    "\n",
    "    Parameters\n",
    "    ==========\n",
    "    S0 : float\n",
    "        initial stock/index level\n",
    "    K : float\n",
    "        strike price\n",
    "    T : float\n",
    "        maturity date (in year fractions)\n",
    "    r : float\n",
    "        constant risk-free short rate\n",
    "    sigma : float\n",
    "        volatility factor in diffusion term\n",
    "\n",
    "    Returns\n",
    "    =======\n",
    "    vega : float\n",
    "        partial derivative of BSM formula with respect\n",
    "        to sigma, i.e. Vega\n",
    "\n",
    "    '''\n",
    "    from math import log, sqrt\n",
    "    from scipy import stats\n",
    "\n",
    "    S0 = float(S0)\n",
    "    d1 = (log(S0 / K) + (r + 0.5 * sigma ** 2) * T )/ (sigma * sqrt(T))\n",
    "    vega = S0 * stats.norm.pdf(d1, 0.0, 1.0) * sqrt(T)\n",
    "    return vega\n",
    "\n",
    "\n",
    "\n",
    "\n"
   ]
  },
  {
   "cell_type": "code",
   "execution_count": 7,
   "metadata": {
    "collapsed": true
   },
   "outputs": [],
   "source": [
    "# Implied volatility function\n",
    "def bsm_call_imp_vol(S0, K, T, r, C0, sigma_estimate, it=100):\n",
    "    ''' Implied volatility of European call option in BSM model.\n",
    "\n",
    "    Parameters\n",
    "    ==========\n",
    "    S0 : float\n",
    "        initial stock/index level\n",
    "    K : float\n",
    "        strike price\n",
    "    T : float\n",
    "        maturity date (in year fractions)\n",
    "    r : float\n",
    "        constant risk-free short rate\n",
    "    sigma_est : float\n",
    "        estimate of impl. volatility\n",
    "    it : integer\n",
    "        number of iterations\n",
    "\n",
    "    Returns\n",
    "    =======\n",
    "    simga_est : float\n",
    "        numerically estimated implied volatility\n",
    "    '''\n",
    "    for i in range(it):\n",
    "        sigma_estimate -= ((bsm_call_value(S0, K, T, r, sigma_est) - C0)\n",
    "                        / bsm_vega(S0, K, T, r, sigma_est))\n",
    "    return sigma_estimate"
   ]
  },
  {
   "cell_type": "markdown",
   "metadata": {},
   "source": [
    "[introduction to HDF](https://dzone.com/articles/quick-hdf5-pandas)"
   ]
  },
  {
   "cell_type": "code",
   "execution_count": null,
   "metadata": {
    "collapsed": true
   },
   "outputs": [],
   "source": [
    "V0 = 17.6639\n",
    "r = 0.01"
   ]
  }
 ],
 "metadata": {
  "kernelspec": {
   "display_name": "Python 3",
   "language": "python",
   "name": "python3"
  },
  "language_info": {
   "codemirror_mode": {
    "name": "ipython",
    "version": 3
   },
   "file_extension": ".py",
   "mimetype": "text/x-python",
   "name": "python",
   "nbconvert_exporter": "python",
   "pygments_lexer": "ipython3",
   "version": "3.6.0"
  }
 },
 "nbformat": 4,
 "nbformat_minor": 2
}
